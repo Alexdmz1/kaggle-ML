{
  "nbformat": 4,
  "nbformat_minor": 0,
  "metadata": {
    "colab": {
      "name": "subajuste-y-sobreajuste.ipynb",
      "provenance": []
    },
    "kernelspec": {
      "name": "python3",
      "display_name": "Python 3"
    },
    "language_info": {
      "name": "python"
    }
  },
  "cells": [
    {
      "cell_type": "markdown",
      "source": [
        "#Subajuste y sobreajuste"
      ],
      "metadata": {
        "id": "uyLxhBM0fbat"
      }
    },
    {
      "cell_type": "markdown",
      "source": [
        "Ha construido su primer modelo, y ahora es el momento de optimizar el tamaño del árbol para hacer mejores predicciones. Ejecute esta celda para configurar el entorno de codificación donde lo dejó el paso anterior.\n"
      ],
      "metadata": {
        "id": "gSp02Itlfq4H"
      }
    },
    {
      "cell_type": "code",
      "execution_count": 1,
      "metadata": {
        "colab": {
          "base_uri": "https://localhost:8080/"
        },
        "id": "nHDVByCdeNWh",
        "outputId": "e01f77dd-60b3-4fb5-88d3-5f425e8a3ffe"
      },
      "outputs": [
        {
          "output_type": "stream",
          "name": "stdout",
          "text": [
            "Validation MAE: 29,653\n"
          ]
        }
      ],
      "source": [
        "# Código que ha utilizado anteriormente para cargar datos\n",
        "import pandas as pd\n",
        "from sklearn.metrics import mean_absolute_error\n",
        "from sklearn.model_selection import train_test_split\n",
        "from sklearn.tree import DecisionTreeRegressor\n",
        "\n",
        "\n",
        "# Ruta del archivo a leer\n",
        "iowa_file_path = '/content/drive/MyDrive/descargas_kaggle/home_data/train.csv'\n",
        "\n",
        "home_data = pd.read_csv(iowa_file_path)\n",
        "# Crear objeto de destino y llamarlo y\n",
        "y = home_data.SalePrice\n",
        "# Crear X\n",
        "features = ['LotArea', 'YearBuilt', '1stFlrSF', '2ndFlrSF', 'FullBath', 'BedroomAbvGr', 'TotRmsAbvGrd']\n",
        "X = home_data[features]\n",
        "\n",
        "#  Dividido en datos de validación y entrenamiento\n",
        "train_X, val_X, train_y, val_y = train_test_split(X, y, random_state=1)\n",
        "\n",
        "# Especificar modelo\n",
        "iowa_model = DecisionTreeRegressor(random_state=1)\n",
        "# Modelo de ajuste\n",
        "iowa_model.fit(train_X, train_y)\n",
        "\n",
        "# Realizar predicciones de validación y calcular el error absoluto medio\n",
        "val_predictions = iowa_model.predict(val_X)\n",
        "val_mae = mean_absolute_error(val_predictions, val_y)\n",
        "print(\"Validation MAE: {:,.0f}\".format(val_mae))"
      ]
    },
    {
      "cell_type": "code",
      "source": [
        "def get_mae(max_leaf_nodes, train_X, val_X, train_y, val_y):\n",
        "    model = DecisionTreeRegressor(max_leaf_nodes=max_leaf_nodes, random_state=0)\n",
        "    model.fit(train_X, train_y)\n",
        "    preds_val = model.predict(val_X)\n",
        "    mae = mean_absolute_error(val_y, preds_val)\n",
        "    return(mae)"
      ],
      "metadata": {
        "id": "3np46F_7e3pI"
      },
      "execution_count": 2,
      "outputs": []
    },
    {
      "cell_type": "markdown",
      "source": [
        "<h1>Paso 1: Compara diferentes tamaños de árbol</h1>"
      ],
      "metadata": {
        "id": "ha7lVdjwgBet"
      }
    },
    {
      "cell_type": "markdown",
      "source": [
        "Escriba un bucle que pruebe los siguientes valores para max_leaf_nodes a partir de un conjunto de valores posibles.\n",
        "\n",
        "Llame a la función get_mae en cada valor de max_leaf_nodes. Almacene la salida de alguna manera que le permita seleccionar el valor de max_leaf_nodes que proporcione el modelo más preciso en sus datos.\n"
      ],
      "metadata": {
        "id": "4thh7Wkzgfv4"
      }
    },
    {
      "cell_type": "code",
      "source": [
        "candidate_max_leaf_nodes = [5, 25, 50, 100, 250, 500]\n",
        "\n",
        "# Bucle para encontrar el tamaño de árbol ideal a partir de candidate_max_leaf_nodes\n",
        "scores = {leaf_size: get_mae(leaf_size, train_X, val_X, train_y, val_y) for leaf_size in candidate_max_leaf_nodes}\n",
        "# Almacene el mejor valor de max_leaf_nodes (será 5, 25, 50, 100, 250 o 500)\n",
        "best_tree_size = min(scores, key=scores.get)\n",
        "\n",
        "print(best_tree_size)"
      ],
      "metadata": {
        "colab": {
          "base_uri": "https://localhost:8080/"
        },
        "id": "OqHBLzhTfCKI",
        "outputId": "9e281d2c-17c9-4201-83ec-567656e90218"
      },
      "execution_count": 3,
      "outputs": [
        {
          "output_type": "stream",
          "name": "stdout",
          "text": [
            "100\n"
          ]
        }
      ]
    },
    {
      "cell_type": "markdown",
      "source": [
        "<h1>Paso 2: Ajustar el modelo utilizando todos los datos</h1>"
      ],
      "metadata": {
        "id": "4Ksx8TlCguIr"
      }
    },
    {
      "cell_type": "markdown",
      "source": [
        "Conoces el mejor tamaño de árbol. Si fuera a implementar este modelo en la práctica, lo haría aún más preciso utilizando todos los datos y manteniendo ese tamaño de árbol. Es decir, no necesita mantener los datos de validación ahora que ha tomado todas sus decisiones de modelado."
      ],
      "metadata": {
        "id": "vr5QLSE9g07M"
      }
    },
    {
      "cell_type": "code",
      "source": [
        "# Rellene el argumento para obtener el tamaño óptimo\n",
        "final_model = DecisionTreeRegressor(max_leaf_nodes=best_tree_size, random_state=1)\n",
        "\n",
        "# Ajustar el modelo final\n",
        "final_model.fit(X,y)"
      ],
      "metadata": {
        "colab": {
          "base_uri": "https://localhost:8080/"
        },
        "id": "lBBskHPhfNzH",
        "outputId": "7f2a2587-b272-4ea6-e7ab-fba0b6495153"
      },
      "execution_count": 4,
      "outputs": [
        {
          "output_type": "execute_result",
          "data": {
            "text/plain": [
              "DecisionTreeRegressor(max_leaf_nodes=100, random_state=1)"
            ]
          },
          "metadata": {},
          "execution_count": 4
        }
      ]
    },
    {
      "cell_type": "markdown",
      "source": [
        "Has ajustado este modelo y mejorado tus resultados. Pero todavía estamos utilizando modelos de árbol de decisión, que no son muy sofisticados para los estándares modernos de aprendizaje automático. En el siguiente paso aprenderás a usar Random Forests para mejorar aún más tus modelos."
      ],
      "metadata": {
        "id": "iAZ-GKx2hmHe"
      }
    }
  ]
}